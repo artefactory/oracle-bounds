{
 "cells": [
  {
   "cell_type": "markdown",
   "source": [
    "# AR simulation"
   ],
   "metadata": {
    "collapsed": false
   },
   "id": "a94cea888eb6c70b"
  },
  {
   "cell_type": "markdown",
   "source": [
    "### 1. Imports and constants"
   ],
   "metadata": {
    "collapsed": false
   },
   "id": "f8795860cf3ac405"
  },
  {
   "cell_type": "code",
   "execution_count": 1,
   "outputs": [],
   "source": [
    "import copy\n",
    "\n",
    "import numpy as np\n",
    "%load_ext autoreload\n",
    "%autoreload 2\n",
    "\n",
    "# Add project to path\n",
    "import os\n",
    "import sys\n",
    "\n",
    "import pandas as pd\n",
    "from lib.generate.generate_ar import generate_stationary_ar_coefficients, simulate_ar\n",
    "from lib.dataprocessor.ArDataProcessor import ArDataProcessor\n",
    "from lib.models.ArModale import ArModel\n",
    "from lib.loss.Mse import Mse\n",
    "\n",
    "module_path = os.path.abspath(os.path.join('..'))\n",
    "if module_path not in sys.path:\n",
    "    sys.path.append(module_path)"
   ],
   "metadata": {
    "collapsed": false,
    "ExecuteTime": {
     "end_time": "2024-09-23T14:29:12.333580Z",
     "start_time": "2024-09-23T14:29:11.575641Z"
    }
   },
   "id": "abd81b43fa7ce18"
  },
  {
   "cell_type": "code",
   "execution_count": 2,
   "outputs": [],
   "source": [
    "# set constants\n",
    "length = 1_000\n",
    "train_ratio = 0.06\n",
    "test_ratio = 0.04\n",
    "theoretical_risk_estimator_ratio = 0.9\n",
    "max_degree = 100\n",
    "sigma = 1\n",
    "\n",
    "data_processor = ArDataProcessor('ar', max_degree)\n",
    "models = [ArModel(i) for i in range(1, max_degree)]\n",
    "loss = Mse()"
   ],
   "metadata": {
    "collapsed": false,
    "ExecuteTime": {
     "end_time": "2024-09-23T14:29:12.348159Z",
     "start_time": "2024-09-23T14:29:12.333969Z"
    }
   },
   "id": "6b6a21983129f948"
  },
  {
   "cell_type": "code",
   "execution_count": null,
   "outputs": [],
   "source": [
    "def run_one_simulation(degree, seed):\n",
    "    # generate data\n",
    "    ar_coefficients = generate_stationary_ar_coefficients(degree=degree, seed=seed)\n",
    "    series = simulate_ar(ar_coefficients, sigma, length, seed=seed)\n",
    "    \n",
    "    # process data\n",
    "    x, y = data_processor.process(series)\n",
    "    \n",
    "    # split data\n",
    "    train_size = int(length * train_ratio)\n",
    "    test_size = int(length * test_ratio)\n",
    "    theoretical_risk_estimator_size = int(length * theoretical_risk_estimator_ratio)\n",
    "    x_train = x[:train_size]\n",
    "    y_train = y[:train_size]\n",
    "    x_test = x[train_size:train_size + test_size]\n",
    "    y_test = y[train_size:train_size + test_size]\n",
    "    x_theoretical_risk_estimator = x[-theoretical_risk_estimator_size:]\n",
    "    y_theoretical_risk_estimator = y[-theoretical_risk_estimator_size:]\n",
    "    \n",
    "    test_values_and_predictions = pd.DataFrame(data=y_test, columns=['y'])\n",
    "    theoretical_risk_estimator_values_and_predictions = pd.DataFrame(data=y_theoretical_risk_estimator, columns=['y'])\n",
    "    \n",
    "    # fit and predict\n",
    "    for model in models:\n",
    "        model = model.fit(x_train, y_train)\n",
    "        test_values_and_predictions[model.name] = model.predict(x_test)\n",
    "        theoretical_risk_estimator_values_and_predictions[model.name] = model.predict(x_theoretical_risk_estimator)\n",
    "        \n",
    "    # oracle predictions\n",
    "    oracle = ArModel(degree)\n",
    "    oracle = oracle.force_coef(ar_coefficients)\n",
    "    \n",
    "    test_values_and_predictions['oracle'] = oracle.predict(x_test)\n",
    "    theoretical_risk_estimator_values_and_predictions['oracle'] = oracle.predict(x_theoretical_risk_estimator)\n",
    "    \n",
    "    # loss\n",
    "    test_loss = loss.compute_from_dataframe(test_values_and_predictions, [model.name for model in models])\n",
    "    theoretical_risk = loss.compute_from_dataframe(theoretical_risk_estimator_values_and_predictions, [model.name for model in models]).mean(axis=0)\n",
    "    \n",
    "    # select best model\n",
    "    non_oracle_models_loss = test_loss[[model.name for model in models]]\n",
    "    best_model_theoretical_risk = []\n",
    "    for m in range(1, test_size):\n",
    "        sub_test_loss = non_oracle_models_loss[:m]\n",
    "        best_model = sub_test_loss.mean(axis=0).idxmin()\n",
    "        best_model_theoretical_risk.append(copy.deepcopy(theoretical_risk.loc[best_model]))\n",
    "    \n",
    "    return best_model_theoretical_risk - theoretical_risk.loc['oracle']\n",
    "\n",
    "theoretical_risk_diffs = []\n",
    "degree = 20\n",
    "for seed in range(1, 20):\n",
    "    theoretical_risk_diffs.append(run_one_simulation(degree, seed))\n",
    "mean_best_model_theoretical_risk = np.array(theoretical_risk_diffs).mean(axis=0)"
   ],
   "metadata": {
    "collapsed": false,
    "is_executing": true,
    "ExecuteTime": {
     "start_time": "2024-09-23T14:32:14.896607Z"
    }
   },
   "id": "35d2d928d92f715d"
  },
  {
   "cell_type": "code",
   "execution_count": null,
   "outputs": [],
   "source": [
    "# plot best_model_theoretical_risk\n",
    "import matplotlib.pyplot as plt\n",
    "\n",
    "plt.plot(mean_best_model_theoretical_risk)\n",
    "plt.title(f'Error Differences between Best Model and Oracle')\n",
    "plt.xlabel('Test Size')\n",
    "plt.ylabel('Error Difference')\n",
    "plt.legend()\n",
    "plt.grid(True)\n",
    "plt.show()"
   ],
   "metadata": {
    "collapsed": false,
    "is_executing": true
   },
   "id": "c8454b0f7d36f5fb"
  },
  {
   "cell_type": "code",
   "execution_count": 5,
   "outputs": [],
   "source": [],
   "metadata": {
    "collapsed": false,
    "ExecuteTime": {
     "end_time": "2024-09-23T14:29:13.067760Z",
     "start_time": "2024-09-23T14:29:13.064177Z"
    }
   },
   "id": "42945d5df8f07b9"
  }
 ],
 "metadata": {
  "kernelspec": {
   "display_name": "Python 3",
   "language": "python",
   "name": "python3"
  },
  "language_info": {
   "codemirror_mode": {
    "name": "ipython",
    "version": 2
   },
   "file_extension": ".py",
   "mimetype": "text/x-python",
   "name": "python",
   "nbconvert_exporter": "python",
   "pygments_lexer": "ipython2",
   "version": "2.7.6"
  }
 },
 "nbformat": 4,
 "nbformat_minor": 5
}
