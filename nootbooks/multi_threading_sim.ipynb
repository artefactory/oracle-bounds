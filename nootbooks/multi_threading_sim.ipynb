{
 "cells": [
  {
   "cell_type": "code",
   "execution_count": 1,
   "id": "initial_id",
   "metadata": {
    "collapsed": true,
    "ExecuteTime": {
     "end_time": "2024-10-09T15:11:17.513339Z",
     "start_time": "2024-10-09T15:11:17.336113Z"
    }
   },
   "outputs": [],
   "source": [
    "%load_ext autoreload\n",
    "%autoreload 2\n",
    "import os\n",
    "import sys\n",
    "# Add project to path\n",
    "module_path = os.path.abspath(os.path.join('..'))\n",
    "if module_path not in sys.path:\n",
    "    sys.path.append(module_path)\n",
    "\n",
    "from lib.generate.generate_ar import simulate_ar\n",
    "import threading\n",
    "from queue import Queue\n",
    "import numpy as np\n",
    "\n",
    "from lib.dataprocessor.ArDataProcessor import ArDataProcessor\n",
    "from lib.loss.Mse import Mse\n",
    "from lib.generate.generate_ar import generate_stationary_ar_coefficients\n",
    "from lib.models.ArModale import ArModel\n"
   ]
  },
  {
   "cell_type": "code",
   "execution_count": 2,
   "outputs": [],
   "source": [
    "\n",
    "def run_simulation_thread(models, oracle_coefficients, sigma, length, data_processor, train_ratio, loss, x_theo_risk, y_theo_risk, results_queue, sim_range, seed_start):\n",
    "    train_length = int(train_ratio * length)\n",
    "    test_length = length - train_length\n",
    "    simulations = {}\n",
    "    models_theo_risk = {model.name: [] for model in models}\n",
    "    \n",
    "    for i in sim_range:\n",
    "        simulation = {}\n",
    "        seed = seed_start + i\n",
    "        series = simulate_ar(oracle_coefficients, sigma, length, seed=seed)\n",
    "        x, y = data_processor.process(series)\n",
    "        x_train, y_train = x[:train_length], y[:train_length]\n",
    "        x_test, y_test = x[train_length:], y[train_length:]\n",
    "        for model in models:\n",
    "            model = model.fit(x_train, y_train)\n",
    "            model_loss_all_test = loss.compute(model.predict(x_test), y_test)\n",
    "            model_theo_risk_loss = loss.compute(model.predict(x_theo_risk), y_theo_risk)\n",
    "            model_theo_risk = model_theo_risk_loss.mean()\n",
    "            simulation[model.name] = np.ravel(model_loss_all_test)\n",
    "            models_theo_risk[model.name].append(model_theo_risk)\n",
    "        simulations[i] = simulation\n",
    "\n",
    "    results_queue.put((simulations, models_theo_risk, test_length))\n",
    "\n",
    "\n",
    "def run_n_simulation_parallel(models, oracle_coefficients, loss, sigma, length, data_processor, n=20, train_ratio=0.6, theo_risk_estimator_length=10**6, seed=1, n_threads=4):\n",
    "    theo_risk_series = simulate_ar(oracle_coefficients, sigma, theo_risk_estimator_length, seed=seed)\n",
    "    x_theo_risk, y_theo_risk = data_processor.process(theo_risk_series)\n",
    "    \n",
    "    results_queue = Queue()\n",
    "\n",
    "    threads = []\n",
    "    simulations_per_thread = n // n_threads\n",
    "    extra_simulations = n % n_threads\n",
    "\n",
    "    current_sim_start = 0\n",
    "    for i in range(n_threads):\n",
    "        sim_range_length = simulations_per_thread + (1 if i < extra_simulations else 0)\n",
    "        sim_range = range(current_sim_start, current_sim_start + sim_range_length)\n",
    "        current_sim_start += sim_range_length\n",
    "\n",
    "        thread = threading.Thread(target=run_simulation_thread, args=(\n",
    "            models, oracle_coefficients, sigma, length, data_processor, train_ratio, loss, x_theo_risk, y_theo_risk, results_queue, sim_range, seed))\n",
    "        threads.append(thread)\n",
    "        thread.start()\n",
    "\n",
    "    for thread in threads:\n",
    "        thread.join()\n",
    "\n",
    "    simulations = {}\n",
    "    models_theo_risk = {model.name: [] for model in models}\n",
    "    test_length = None\n",
    "\n",
    "    while not results_queue.empty():\n",
    "        thread_simulations, thread_models_theo_risk, thread_test_length = results_queue.get()\n",
    "        simulations.update(thread_simulations)\n",
    "        test_length = thread_test_length  \n",
    "        for model_name, model_theo_risks in thread_models_theo_risk.items():\n",
    "            models_theo_risk[model_name].extend(model_theo_risks)\n",
    "    \n",
    "    for model_name, model_theo_risks in models_theo_risk.items():\n",
    "        models_theo_risk[model_name] = np.array(model_theo_risks).mean()\n",
    "\n",
    "    return simulations, models_theo_risk, test_length"
   ],
   "metadata": {
    "collapsed": false,
    "ExecuteTime": {
     "end_time": "2024-10-09T15:11:21.489433Z",
     "start_time": "2024-10-09T15:11:20.936306Z"
    }
   },
   "id": "a299e97765f8222c"
  },
  {
   "cell_type": "code",
   "execution_count": 3,
   "outputs": [],
   "source": [
    "\n",
    "\n",
    "length = 10**4\n",
    "sigma = 0.1\n",
    "degree = 20\n",
    "max_degree = 50\n",
    "\n",
    "models = [ArModel(i) for i in range(1, max_degree)]\n",
    "oracle_coefficients = generate_stationary_ar_coefficients(degree=degree, seed=1)\n",
    "loss = Mse()\n",
    "data_processor = ArDataProcessor('ar', max_degree)\n"
   ],
   "metadata": {
    "collapsed": false,
    "ExecuteTime": {
     "end_time": "2024-10-09T15:13:32.609793Z",
     "start_time": "2024-10-09T15:11:26.737979Z"
    }
   },
   "id": "763614448b267f0d"
  },
  {
   "cell_type": "code",
   "execution_count": 4,
   "outputs": [],
   "source": [
    "simulations_1000, models_theo_risk_1000, test_length_1000 = run_n_simulation_parallel(models, oracle_coefficients, loss, sigma, length*10, data_processor, n=10, train_ratio=0.6, theo_risk_estimator_length=10**7, seed=1, n_threads=8)"
   ],
   "metadata": {
    "collapsed": false,
    "ExecuteTime": {
     "end_time": "2024-10-09T15:15:36.547400Z",
     "start_time": "2024-10-09T15:13:32.620890Z"
    }
   },
   "id": "33e73e0679c10fe4"
  },
  {
   "cell_type": "code",
   "execution_count": 5,
   "outputs": [
    {
     "name": "stderr",
     "output_type": "stream",
     "text": [
      "\n",
      "KeyboardInterrupt\n",
      "\n"
     ]
    }
   ],
   "source": [
    "simulations_1000, models_theo_risk_1000, test_length_1000 = run_n_simulation_parallel(models, oracle_coefficients, loss, sigma, length*10, data_processor, n=10, train_ratio=0.6, theo_risk_estimator_length=10**7, seed=1, n_threads=16)"
   ],
   "metadata": {
    "collapsed": false,
    "ExecuteTime": {
     "end_time": "2024-10-09T15:16:21.293336Z",
     "start_time": "2024-10-09T15:15:36.547188Z"
    }
   },
   "id": "37db62325b782923"
  },
  {
   "cell_type": "code",
   "execution_count": null,
   "outputs": [],
   "source": [],
   "metadata": {
    "collapsed": false
   },
   "id": "eb4c34f3347dd5a1"
  }
 ],
 "metadata": {
  "kernelspec": {
   "display_name": "Python 3",
   "language": "python",
   "name": "python3"
  },
  "language_info": {
   "codemirror_mode": {
    "name": "ipython",
    "version": 2
   },
   "file_extension": ".py",
   "mimetype": "text/x-python",
   "name": "python",
   "nbconvert_exporter": "python",
   "pygments_lexer": "ipython2",
   "version": "2.7.6"
  }
 },
 "nbformat": 4,
 "nbformat_minor": 5
}
