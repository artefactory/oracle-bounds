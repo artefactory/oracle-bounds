{
 "cells": [
  {
   "cell_type": "markdown",
   "source": [
    "# AR simulation"
   ],
   "metadata": {
    "collapsed": false
   },
   "id": "a94cea888eb6c70b"
  },
  {
   "cell_type": "markdown",
   "source": [
    "### 1. Imports and constants"
   ],
   "metadata": {
    "collapsed": false
   },
   "id": "f8795860cf3ac405"
  },
  {
   "cell_type": "code",
   "execution_count": 3,
   "outputs": [],
   "source": [
    "import copy\n",
    "\n",
    "import numpy as np\n",
    "%load_ext autoreload\n",
    "%autoreload 2\n",
    "\n",
    "# Add project to path\n",
    "import os\n",
    "import sys\n",
    "\n",
    "import tqdm\n",
    "import pandas as pd\n",
    "import matplotlib.pyplot as plt\n",
    "from lib.generate.generate_ar import generate_stationary_ar_coefficients, simulate_ar\n",
    "from lib.dataprocessor.ArDataProcessor import ArDataProcessor\n",
    "from lib.models.ArModale import ArModel\n",
    "from lib.loss.Mse import Mse\n",
    "\n",
    "module_path = os.path.abspath(os.path.join('..'))\n",
    "if module_path not in sys.path:\n",
    "    sys.path.append(module_path)"
   ],
   "metadata": {
    "collapsed": false,
    "ExecuteTime": {
     "end_time": "2024-09-27T10:45:41.972390Z",
     "start_time": "2024-09-27T10:45:41.103285Z"
    }
   },
   "id": "abd81b43fa7ce18"
  },
  {
   "cell_type": "code",
   "execution_count": 4,
   "outputs": [],
   "source": [
    "def run_one_simulation_on_test_size(degree, seed, models):\n",
    "    # generate data\n",
    "    ar_coefficients = generate_stationary_ar_coefficients(degree=degree, seed=seed)\n",
    "    series = simulate_ar(ar_coefficients, sigma, length, seed=seed)\n",
    "    \n",
    "    # process data\n",
    "    x, y = data_processor.process(series)\n",
    "    \n",
    "    # split data\n",
    "    train_size = int(length * train_ratio)\n",
    "    test_size = int(length * test_ratio)\n",
    "    theoretical_risk_estimator_size = int(length * theoretical_risk_estimator_ratio)\n",
    "    x_train = x[:train_size]\n",
    "    y_train = y[:train_size]\n",
    "    x_test = x[train_size:train_size + test_size]\n",
    "    y_test = y[train_size:train_size + test_size]\n",
    "    x_theoretical_risk_estimator = x[-theoretical_risk_estimator_size:]\n",
    "    y_theoretical_risk_estimator = y[-theoretical_risk_estimator_size:]\n",
    "    \n",
    "    \n",
    "    \n",
    "    test_predictions = {}\n",
    "    theoretical_risk_predictions = {}\n",
    "    \n",
    "    test_predictions['y'] = np.ravel(y_test)\n",
    "    theoretical_risk_predictions['y'] = np.ravel(y_theoretical_risk_estimator)\n",
    "    \n",
    "    # fit and predict for each model\n",
    "    for model in models:\n",
    "        model = model.fit(x_train, y_train)\n",
    "        test_predictions[model.name] = np.ravel(model.predict(x_test))\n",
    "        theoretical_risk_predictions[model.name] = np.ravel(model.predict(x_theoretical_risk_estimator))\n",
    "    \n",
    "    # oracle predictions\n",
    "    oracle = ArModel(degree)\n",
    "    oracle = oracle.force_coef(ar_coefficients)\n",
    "    \n",
    "    test_predictions['oracle'] = np.ravel(oracle.predict(x_test))\n",
    "    theoretical_risk_predictions['oracle'] = np.ravel(oracle.predict(x_theoretical_risk_estimator))\n",
    "    \n",
    "    test_values_and_predictions = pd.DataFrame(test_predictions)\n",
    "    theoretical_risk_estimator_values_and_predictions = pd.DataFrame(theoretical_risk_predictions)\n",
    "    \n",
    "    \n",
    "    # loss\n",
    "    test_loss = loss.compute_from_dataframe(test_values_and_predictions, [model.name for model in models])\n",
    "    theoretical_risk = loss.compute_from_dataframe(theoretical_risk_estimator_values_and_predictions, [model.name for model in models]).mean(axis=0)\n",
    "    \n",
    "    # select best model\n",
    "    non_oracle_models_loss = test_loss[[model.name for model in models]]\n",
    "    best_model_theoretical_risk = []\n",
    "    for m in range(1, test_size):\n",
    "        sub_test_loss = non_oracle_models_loss[:m]\n",
    "        best_model = sub_test_loss.mean(axis=0).idxmin()\n",
    "        best_model_theoretical_risk.append(copy.deepcopy(theoretical_risk.loc[best_model]))\n",
    "\n",
    "    return (best_model_theoretical_risk - theoretical_risk.loc['oracle'])/np.array(best_model_theoretical_risk).mean()"
   ],
   "metadata": {
    "collapsed": false,
    "ExecuteTime": {
     "end_time": "2024-09-27T10:45:41.989679Z",
     "start_time": "2024-09-27T10:45:41.975280Z"
    }
   },
   "id": "35d2d928d92f715d"
  },
  {
   "cell_type": "code",
   "execution_count": 5,
   "outputs": [],
   "source": [
    "def plot_best_ar_model_theoretical_risk(degree, models, nb_simulations, max_test_size):\n",
    "    ar_theoretical_risk_diffs = []\n",
    "    for seed in tqdm.tqdm(range(1, nb_simulations)):\n",
    "        ar_theoretical_risk_diffs.append(run_one_simulation_on_test_size(degree, seed, models))\n",
    "    mean_best_model_theoretical_risk_ar = np.array(ar_theoretical_risk_diffs).mean(axis=0)\n",
    "    max_test_size = min(max_test_size, len(mean_best_model_theoretical_risk_ar))\n",
    "    # plot best_model_theoretical_risk\n",
    "    #plt.figure(figsize=(20, 10))\n",
    "    plt.plot(mean_best_model_theoretical_risk_ar[:max_test_size],\".\")\n",
    "    plt.title(f'Error Differences between Best Model for AR_1 to AR_{max_degree} and Oracle(AR_{degree})')\n",
    "    plt.xlabel('Test Size')\n",
    "    plt.ylabel('Error Difference')\n",
    "    plt.legend()\n",
    "    plt.grid(True)\n",
    "    #plt.show()\n",
    "    return mean_best_model_theoretical_risk_ar\n",
    "\n",
    "def plot_from_mean_theoretical_risk(mean_theoretical_risk, max_test_size, max_degree, degree):\n",
    "    max_test_size = min(max_test_size, len(mean_theoretical_risk))\n",
    "    plt.figure(figsize=(20, 10))\n",
    "    plt.plot(mean_theoretical_risk[:max_test_size],\".\")\n",
    "    plt.title(f'Error Differences between Best Model for AR_1 to AR_{max_degree} and Oracle(AR_{degree})')\n",
    "    plt.xlabel('Test Size')\n",
    "    plt.ylabel('Error Difference')\n",
    "    plt.legend()\n",
    "    plt.grid(True)\n",
    "    plt.show()\n"
   ],
   "metadata": {
    "collapsed": false,
    "ExecuteTime": {
     "end_time": "2024-09-27T10:45:42.005894Z",
     "start_time": "2024-09-27T10:45:41.990846Z"
    }
   },
   "id": "c8454b0f7d36f5fb"
  },
  {
   "cell_type": "code",
   "execution_count": 6,
   "outputs": [],
   "source": [
    "# set constants\n",
    "length = 100_000\n",
    "train_ratio = 0.06\n",
    "test_ratio = 0.04\n",
    "theoretical_risk_estimator_ratio = 0.9\n",
    "max_degree = 60\n",
    "degree = 20\n",
    "nb_simulations = 10 # fixer les coeff pour toutes les simulations\n",
    "sigma = 0.1\n",
    "max_test_size = int(train_ratio * length / 5)"
   ],
   "metadata": {
    "collapsed": false,
    "ExecuteTime": {
     "end_time": "2024-09-27T10:45:42.019899Z",
     "start_time": "2024-09-27T10:45:42.006326Z"
    }
   },
   "id": "42945d5df8f07b9"
  },
  {
   "cell_type": "code",
   "execution_count": 7,
   "outputs": [
    {
     "name": "stderr",
     "output_type": "stream",
     "text": [
      "100%|██████████| 9/9 [00:14<00:00,  1.63s/it]\n",
      "No artists with labels found to put in legend.  Note that artists whose label start with an underscore are ignored when legend() is called with no argument.\n"
     ]
    },
    {
     "name": "stdout",
     "output_type": "stream",
     "text": [
      "Elapsed time: 14.697023153305054\n"
     ]
    },
    {
     "data": {
      "text/plain": "<Figure size 640x480 with 1 Axes>",
      "image/png": "[encoded data removed]"
     },
     "metadata": {},
     "output_type": "display_data"
    }
   ],
   "source": [
    "import time\n",
    "\n",
    "START_TIME = time.time()\n",
    "data_processor = ArDataProcessor('ar', max_degree)\n",
    "ar_models = [ArModel(i) for i in range(1, max_degree)]\n",
    "loss = Mse()\n",
    "mean_theoretical_risk_ar = plot_best_ar_model_theoretical_risk(degree, ar_models, nb_simulations, max_test_size)\n",
    "print(f'Elapsed time: {time.time() - START_TIME}')"
   ],
   "metadata": {
    "collapsed": false,
    "ExecuteTime": {
     "end_time": "2024-09-27T10:45:57.884666Z",
     "start_time": "2024-09-27T10:45:43.081050Z"
    }
   },
   "id": "40df48a7c3e95ff7"
  },
  {
   "cell_type": "code",
   "execution_count": null,
   "outputs": [
    {
     "name": "stderr",
     "output_type": "stream",
     "text": [
      "100%|██████████| 9/9 [00:08<00:00,  1.06it/s]\n",
      "No artists with labels found to put in legend.  Note that artists whose label start with an underscore are ignored when legend() is called with no argument.\n",
      "100%|██████████| 9/9 [00:11<00:00,  1.24s/it]\n",
      "100%|██████████| 9/9 [00:15<00:00,  1.71s/it]\n",
      " 22%|██▏       | 2/9 [00:03<00:11,  1.67s/it]"
     ]
    }
   ],
   "source": [
    "for i in range(20, 100, 20):\n",
    "    mean_theoretical_risk_ar_i = plot_best_ar_model_theoretical_risk(degree, ar_models[:i], nb_simulations, max_test_size)\n",
    "    plt.plot(mean_theoretical_risk_ar_i[:max_test_size],\".\", label=f\"{i}\")\n",
    "plt.title(f'Error Differences between Best Model for AR_1 to AR_{max_degree} and Oracle(AR_{degree})')\n",
    "plt.xlabel('Test Size')\n",
    "plt.ylabel('Error Difference')\n",
    "plt.legend()\n",
    "plt.grid(True)\n",
    "plt.show()"
   ],
   "metadata": {
    "collapsed": false,
    "is_executing": true,
    "ExecuteTime": {
     "start_time": "2024-09-27T10:45:57.884518Z"
    }
   },
   "id": "175c9bd760d0d56c"
  },
  {
   "cell_type": "code",
   "execution_count": 6,
   "outputs": [],
   "source": [],
   "metadata": {
    "collapsed": false,
    "ExecuteTime": {
     "end_time": "2024-09-27T10:44:00.679251Z",
     "start_time": "2024-09-27T10:44:00.675017Z"
    }
   },
   "id": "73db902ece868841"
  }
 ],
 "metadata": {
  "kernelspec": {
   "display_name": "Python 3",
   "language": "python",
   "name": "python3"
  },
  "language_info": {
   "codemirror_mode": {
    "name": "ipython",
    "version": 2
   },
   "file_extension": ".py",
   "mimetype": "text/x-python",
   "name": "python",
   "nbconvert_exporter": "python",
   "pygments_lexer": "ipython2",
   "version": "2.7.6"
  }
 },
 "nbformat": 4,
 "nbformat_minor": 5
}
